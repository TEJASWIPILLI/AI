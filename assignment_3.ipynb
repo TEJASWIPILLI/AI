{
  "nbformat": 4,
  "nbformat_minor": 0,
  "metadata": {
    "colab": {
      "name": "assignment 3",
      "provenance": [],
      "authorship_tag": "ABX9TyMnAtSWfeRjxvSKVpHyt6iI",
      "include_colab_link": true
    },
    "kernelspec": {
      "name": "python3",
      "display_name": "Python 3"
    },
    "language_info": {
      "name": "python"
    }
  },
  "cells": [
    {
      "cell_type": "markdown",
      "metadata": {
        "id": "view-in-github",
        "colab_type": "text"
      },
      "source": [
        "<a href=\"https://colab.research.google.com/github/TEJASWIPILLI/AI/blob/main/assignment_3.ipynb\" target=\"_parent\"><img src=\"https://colab.research.google.com/assets/colab-badge.svg\" alt=\"Open In Colab\"/></a>"
      ]
    },
    {
      "cell_type": "code",
      "metadata": {
        "colab": {
          "base_uri": "https://localhost:8080/"
        },
        "id": "L-CgizUST0uG",
        "outputId": "d8ad0731-215b-4450-e839-878df4aea8e3"
      },
      "source": [
        "import numpy as np \n",
        "x=np.random.uniform(-100,100)\n",
        "y=np.random.uniform(-100,100)\n",
        "eta=0.1\n",
        "itermax=200\n",
        "iter=1\n",
        "while iter<=itermax:\n",
        " slopex=6*x \n",
        " slopey=-5*pow(2.71828,-y)\n",
        " step_length_x=-eta*slopex\n",
        " step_length_y=-eta*slopey\n",
        " x=x+step_length_x\n",
        " y=y+step_length_y\n",
        " iter=iter+1\n",
        "print(\"CONTROL VARIABLES:\")\n",
        "print(\"The value of x=\",round(x),\"\\nThe value of y=\",round(y))\n",
        "obj=3*x*x + 5*pow(2.71828,-y) + 10\n",
        "print(\"OBJECTIVE FUNCTION=\",obj)"
      ],
      "execution_count": 6,
      "outputs": [
        {
          "output_type": "stream",
          "name": "stdout",
          "text": [
            "CONTROL VARIABLES:\n",
            "The value of x= 0 \n",
            "The value of y= 19\n",
            "OBJECTIVE FUNCTION= 10.000000028853579\n"
          ]
        }
      ]
    }
  ]
}